{
 "cells": [
  {
   "cell_type": "markdown",
   "metadata": {},
   "source": [
    "- Crie uma classe com 3 atributos"
   ]
  },
  {
   "cell_type": "markdown",
   "metadata": {},
   "source": [
    "- Defina um método para a classe"
   ]
  },
  {
   "cell_type": "markdown",
   "metadata": {},
   "source": [
    "- Instancie a classe"
   ]
  },
  {
   "cell_type": "markdown",
   "metadata": {},
   "source": [
    "- Execute o método"
   ]
  },
  {
   "cell_type": "code",
   "execution_count": 1,
   "metadata": {},
   "outputs": [
    {
     "name": "stdout",
     "output_type": "stream",
     "text": [
      "A pedra preciosa Ruby é do tipo Gema e pesa 350 gramas\n"
     ]
    }
   ],
   "source": [
    "class Pedra_Preciosa:\n",
    "    def __init__(self, nome, tipo, peso=100):\n",
    "        self.nome = nome\n",
    "        self.tipo = tipo\n",
    "        self.peso = peso\n",
    "    \n",
    "    def listar_caracteristicas(self):\n",
    "        print(f\"A pedra preciosa {self.nome} é do tipo {self.tipo} e pesa {self.peso} gramas\")\n",
    "\n",
    "pedra1 = Pedra_Preciosa(\"Ruby\", \"Gema\", 350)\n",
    "pedra1.listar_caracteristicas()"
   ]
  }
 ],
 "metadata": {
  "kernelspec": {
   "display_name": "Python 3.11.0 64-bit",
   "language": "python",
   "name": "python3"
  },
  "language_info": {
   "codemirror_mode": {
    "name": "ipython",
    "version": 3
   },
   "file_extension": ".py",
   "mimetype": "text/x-python",
   "name": "python",
   "nbconvert_exporter": "python",
   "pygments_lexer": "ipython3",
   "version": "3.12.3"
  },
  "orig_nbformat": 4,
  "vscode": {
   "interpreter": {
    "hash": "1a1af0ee75eeea9e2e1ee996c87e7a2b11a0bebd85af04bb136d915cefc0abce"
   }
  }
 },
 "nbformat": 4,
 "nbformat_minor": 2
}
