{
 "cells": [
  {
   "attachments": {},
   "cell_type": "markdown",
   "metadata": {},
   "source": [
    "- Crie um dicionário\n"
   ]
  },
  {
   "cell_type": "code",
   "execution_count": 1,
   "metadata": {},
   "outputs": [],
   "source": [
    "meu_dicionario = {\n",
    "    'nome': 'Danilo Couto',\n",
    "    'idade': 30,\n",
    "    'cidade': 'São Paulo',\n",
    "    'profissao': 'Desenvolvedor'\n",
    "}"
   ]
  },
  {
   "attachments": {},
   "cell_type": "markdown",
   "metadata": {},
   "source": [
    "- Faza uma lista com as chaves do dicionário criado\n"
   ]
  },
  {
   "cell_type": "code",
   "execution_count": 2,
   "metadata": {},
   "outputs": [
    {
     "name": "stdout",
     "output_type": "stream",
     "text": [
      "Lista de chaves: ['nome', 'idade', 'cidade', 'profissao']\n"
     ]
    }
   ],
   "source": [
    "lista_chaves = list(meu_dicionario.keys())\n",
    "print(f\"Lista de chaves: {lista_chaves}\")"
   ]
  },
  {
   "attachments": {},
   "cell_type": "markdown",
   "metadata": {},
   "source": [
    "- Faça um objeto iterável com os valores do dicionário criado\n"
   ]
  },
  {
   "cell_type": "code",
   "execution_count": 3,
   "metadata": {},
   "outputs": [
    {
     "name": "stdout",
     "output_type": "stream",
     "text": [
      "Iterador de valores: <dict_valueiterator object at 0x000001EE7FC67290>\n"
     ]
    }
   ],
   "source": [
    "iterador_valores = iter(meu_dicionario.values())\n",
    "print(f\"Iterador de valores: {iterador_valores}\")"
   ]
  },
  {
   "attachments": {},
   "cell_type": "markdown",
   "metadata": {},
   "source": [
    "- Localize o valor correspondente a uma chave do dicionário\n"
   ]
  },
  {
   "cell_type": "code",
   "execution_count": 5,
   "metadata": {},
   "outputs": [
    {
     "data": {
      "text/plain": [
       "'Danilo Couto'"
      ]
     },
     "execution_count": 5,
     "metadata": {},
     "output_type": "execute_result"
    }
   ],
   "source": [
    "def localizar_valor(dicionario, chave):\n",
    "    return dicionario.get(chave, \"Chave não encontrada\")\n",
    "\n",
    "localizar_valor(meu_dicionario, \"nome\")"
   ]
  },
  {
   "attachments": {},
   "cell_type": "markdown",
   "metadata": {},
   "source": [
    "- Insira um novo par de chave-valor no dicionário\n"
   ]
  },
  {
   "cell_type": "code",
   "execution_count": 6,
   "metadata": {},
   "outputs": [],
   "source": [
    "def inserir_par(dicionario, chave, valor):\n",
    "    dicionario[chave] = valor\n",
    "\n",
    "inserir_par(meu_dicionario, \"hobby\", \"Animes\")"
   ]
  },
  {
   "attachments": {},
   "cell_type": "markdown",
   "metadata": {},
   "source": [
    "- Usando o módulo collections, crie um dicionário cujos o valor padrão serão listas\n"
   ]
  },
  {
   "cell_type": "code",
   "execution_count": 9,
   "metadata": {},
   "outputs": [
    {
     "name": "stdout",
     "output_type": "stream",
     "text": [
      "Dicionário com valor padrão como lista: {'categorias': ['Tecnologia', 'Ciência']}\n"
     ]
    }
   ],
   "source": [
    "from collections import defaultdict\n",
    "\n",
    "def criar_dicionario_com_lista():\n",
    "    return defaultdict(list)\n",
    "\n",
    "dicionario_com_lista = criar_dicionario_com_lista()\n",
    "dicionario_com_lista['categorias'].append('Tecnologia')\n",
    "dicionario_com_lista['categorias'].append('Ciência')\n",
    "print(\"Dicionário com valor padrão como lista:\", dict(dicionario_com_lista))"
   ]
  },
  {
   "attachments": {},
   "cell_type": "markdown",
   "metadata": {},
   "source": [
    "- Adicione um novo par de chave-valor no dicionário de listas\n"
   ]
  },
  {
   "cell_type": "code",
   "execution_count": 11,
   "metadata": {},
   "outputs": [
    {
     "name": "stdout",
     "output_type": "stream",
     "text": [
      "Dicionário com valor padrão como lista: {'categorias': ['Tecnologia', 'Ciência'], 'professores': ['Girafas', 'Girafas']}\n"
     ]
    }
   ],
   "source": [
    "def adicionar_valor_lista(dicionario, chave, valor):\n",
    "    dicionario[chave].append(valor)\n",
    "\n",
    "adicionar_valor_lista(dicionario_com_lista, \"professores\", \"Girafas\")\n",
    "print(\"Dicionário com valor padrão como lista:\", dict(dicionario_com_lista))"
   ]
  },
  {
   "attachments": {},
   "cell_type": "markdown",
   "metadata": {},
   "source": [
    "- Localize um valor da lista correspondente a uma chave do dicionário de listas"
   ]
  },
  {
   "cell_type": "code",
   "execution_count": 18,
   "metadata": {},
   "outputs": [
    {
     "name": "stdout",
     "output_type": "stream",
     "text": [
      "valor encontrado Ciência\n"
     ]
    }
   ],
   "source": [
    "def localizar_valor_lista(dicionario, chave, valor):\n",
    "    if chave in dicionario and valor in dicionario[chave]:\n",
    "        return f\"valor encontrado {valor}\"\n",
    "    return \"Valor não encontrado\"\n",
    "\n",
    "valor_encontrado = localizar_valor_lista(dicionario_com_lista, 'categorias', 'Ciência')\n",
    "print(valor_encontrado)\n"
   ]
  }
 ],
 "metadata": {
  "kernelspec": {
   "display_name": "Python 3",
   "language": "python",
   "name": "python3"
  },
  "language_info": {
   "codemirror_mode": {
    "name": "ipython",
    "version": 3
   },
   "file_extension": ".py",
   "mimetype": "text/x-python",
   "name": "python",
   "nbconvert_exporter": "python",
   "pygments_lexer": "ipython3",
   "version": "3.12.3"
  },
  "orig_nbformat": 4,
  "vscode": {
   "interpreter": {
    "hash": "916dbcbb3f70747c44a77c7bcd40155683ae19c65e1c03b4aa3499c5328201f1"
   }
  }
 },
 "nbformat": 4,
 "nbformat_minor": 2
}
