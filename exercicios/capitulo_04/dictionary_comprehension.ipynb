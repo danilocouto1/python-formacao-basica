{
 "cells": [
  {
   "attachments": {},
   "cell_type": "markdown",
   "metadata": {},
   "source": [
    "- Crie uma lista\n"
   ]
  },
  {
   "cell_type": "code",
   "execution_count": 8,
   "metadata": {},
   "outputs": [],
   "source": [
    "lista = ['banana', 'maçã', 'uva', 'abacaxi']\n"
   ]
  },
  {
   "attachments": {},
   "cell_type": "markdown",
   "metadata": {},
   "source": [
    "- Usando o recurso dictionary comprehension, crie um dicionário cuja a chave é o comprimento do item e o valor, o próprio item da lista.\n"
   ]
  },
  {
   "cell_type": "code",
   "execution_count": 9,
   "metadata": {},
   "outputs": [
    {
     "name": "stdout",
     "output_type": "stream",
     "text": [
      "{6: 'banana', 4: 'maçã', 3: 'uva', 7: 'abacaxi'}\n"
     ]
    }
   ],
   "source": [
    "dict_comprimento = {len(item): item for item in lista}\n",
    "print(dict_comprimento)\n"
   ]
  },
  {
   "attachments": {},
   "cell_type": "markdown",
   "metadata": {},
   "source": [
    "- Crie uma lista de tuplas\n"
   ]
  },
  {
   "cell_type": "code",
   "execution_count": 11,
   "metadata": {},
   "outputs": [],
   "source": [
    "lista_tuplas = [('latino', 1), ('balsico', 2), ('comedido', 3), ('dinastico', 4)]\n"
   ]
  },
  {
   "attachments": {},
   "cell_type": "markdown",
   "metadata": {},
   "source": [
    "- Usando o recurso dictionary comprehension, crie um dicionário cuja a chave é o primeiro item da tupla e o valor, o segundo\n"
   ]
  },
  {
   "cell_type": "code",
   "execution_count": 12,
   "metadata": {},
   "outputs": [
    {
     "name": "stdout",
     "output_type": "stream",
     "text": [
      "{'latino': 1, 'balsico': 2, 'comedido': 3, 'dinastico': 4}\n"
     ]
    }
   ],
   "source": [
    "dict_tuplas = {key: value for key, value in lista_tuplas}\n",
    "print(dict_tuplas)\n"
   ]
  },
  {
   "attachments": {},
   "cell_type": "markdown",
   "metadata": {},
   "source": [
    "- Crie um dicionário\n"
   ]
  },
  {
   "cell_type": "code",
   "execution_count": 13,
   "metadata": {},
   "outputs": [],
   "source": [
    "dicionario = {'um': 1, 'dois': 2, 'três': 3, 'quatro': 4}\n"
   ]
  },
  {
   "attachments": {},
   "cell_type": "markdown",
   "metadata": {},
   "source": [
    "- Usando o recurso dictionary comprehension, crie um novo dicionário cuja a chave é uma maniputação do valor\n"
   ]
  },
  {
   "cell_type": "code",
   "execution_count": 15,
   "metadata": {},
   "outputs": [
    {
     "name": "stdout",
     "output_type": "stream",
     "text": [
      "{'um': 2, 'dois': 4, 'três': 6, 'quatro': 8}\n"
     ]
    }
   ],
   "source": [
    "dict_manipulado = {key: value * 2 for key, value in dicionario.items()}\n",
    "print(dict_manipulado)\n"
   ]
  },
  {
   "attachments": {},
   "cell_type": "markdown",
   "metadata": {},
   "source": [
    "- Usando o recurso dictionary comprehension, crie um dicionário só com chaves com commprimento menor ou igual a 3\n"
   ]
  },
  {
   "cell_type": "code",
   "execution_count": 16,
   "metadata": {},
   "outputs": [
    {
     "name": "stdout",
     "output_type": "stream",
     "text": [
      "{'um': 1}\n"
     ]
    }
   ],
   "source": [
    "dict_filtrado = {key: value for key, value in dicionario.items() if len(key) <= 3}\n",
    "print(dict_filtrado)"
   ]
  }
 ],
 "metadata": {
  "kernelspec": {
   "display_name": "Python 3",
   "language": "python",
   "name": "python3"
  },
  "language_info": {
   "codemirror_mode": {
    "name": "ipython",
    "version": 3
   },
   "file_extension": ".py",
   "mimetype": "text/x-python",
   "name": "python",
   "nbconvert_exporter": "python",
   "pygments_lexer": "ipython3",
   "version": "3.12.3"
  },
  "orig_nbformat": 4,
  "vscode": {
   "interpreter": {
    "hash": "916dbcbb3f70747c44a77c7bcd40155683ae19c65e1c03b4aa3499c5328201f1"
   }
  }
 },
 "nbformat": 4,
 "nbformat_minor": 2
}
