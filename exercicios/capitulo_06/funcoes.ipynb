{
 "cells": [
  {
   "attachments": {},
   "cell_type": "markdown",
   "metadata": {},
   "source": [
    "- Crie uma função que receba como argumento 2 números e 1 operação matemática\n"
   ]
  },
  {
   "attachments": {},
   "cell_type": "markdown",
   "metadata": {},
   "source": [
    "- Implemente as funções de soma e multiplicação, nessa função\n"
   ]
  },
  {
   "cell_type": "code",
   "execution_count": 1,
   "metadata": {},
   "outputs": [],
   "source": [
    "def operacao_mat(num1, num2, operacao):\n",
    "    if operacao == '+':\n",
    "        return num1 + num2\n",
    "    elif operacao == '*':\n",
    "        return num1 * num2"
   ]
  },
  {
   "attachments": {},
   "cell_type": "markdown",
   "metadata": {},
   "source": [
    "- Modifique a função para que receba uma quantidade de argumentos não previsível e os imprima na tela\n"
   ]
  },
  {
   "cell_type": "code",
   "execution_count": 6,
   "metadata": {},
   "outputs": [
    {
     "name": "stdout",
     "output_type": "stream",
     "text": [
      "10\n",
      "24\n",
      "Operação não suportada\n"
     ]
    }
   ],
   "source": [
    "def operacao_mat(operacao, *numeros):    \n",
    "    if not numeros:\n",
    "        return \"Nenhum número fornecido\"\n",
    "    \n",
    "    if operacao == '+':\n",
    "        resultado = 0\n",
    "        for num in numeros:\n",
    "            resultado += num\n",
    "    elif operacao == '*':\n",
    "        resultado = 1\n",
    "        for num in numeros:\n",
    "            resultado *= num\n",
    "    else:\n",
    "        return \"Operação não suportada\"\n",
    "    \n",
    "    return resultado\n",
    "\n",
    "print(operacao_mat('+', 1, 2, 3, 4))       \n",
    "print(operacao_mat('*', 1, 2, 3, 4))       \n",
    "print(operacao_mat('-', 10, 2, 3))  "
   ]
  },
  {
   "attachments": {},
   "cell_type": "markdown",
   "metadata": {},
   "source": [
    "- Use a biblioteca math para otimizar a função\n"
   ]
  },
  {
   "cell_type": "code",
   "execution_count": 5,
   "metadata": {},
   "outputs": [
    {
     "name": "stdout",
     "output_type": "stream",
     "text": [
      "10\n",
      "24\n",
      "5\n"
     ]
    }
   ],
   "source": [
    "import math\n",
    "\n",
    "def operacao_mat(operacao, *numeros):   \n",
    "    if not numeros:\n",
    "        return \"Nenhum número fornecido\"\n",
    "    \n",
    "    if operacao == '+':\n",
    "        resultado = sum(numeros)\n",
    "    elif operacao == '*':\n",
    "        resultado = 1\n",
    "        for num in numeros:\n",
    "            resultado *= num\n",
    "    elif operacao == '-':\n",
    "        resultado = numeros[0]\n",
    "        for num in numeros[1:]:\n",
    "            resultado -= num\n",
    "    elif operacao == '/':\n",
    "        try:\n",
    "            resultado = numeros[0]\n",
    "            for num in numeros[1:]:\n",
    "                resultado /= num\n",
    "        except ZeroDivisionError:\n",
    "            return \"Erro: Divisão por zero\"\n",
    "    elif operacao == '**':\n",
    "        resultado = math.pow(numeros[0], numeros[1])\n",
    "    elif operacao == 'sqrt':\n",
    "        if len(numeros) != 1:\n",
    "            return \"Erro: A operação 'sqrt' requer exatamente um argumento\"\n",
    "        resultado = math.sqrt(numeros[0])\n",
    "    else:\n",
    "        return \"Operação não suportada\"\n",
    "    \n",
    "    return resultado\n",
    "\n",
    "print(operacao_mat('+', 1, 2, 3, 4))       \n",
    "print(operacao_mat('*', 1, 2, 3, 4))       \n",
    "print(operacao_mat('-', 10, 2, 3))         \n"
   ]
  },
  {
   "attachments": {},
   "cell_type": "markdown",
   "metadata": {},
   "source": [
    "- Escreva uma função do tipo lambda"
   ]
  },
  {
   "cell_type": "code",
   "execution_count": 15,
   "metadata": {},
   "outputs": [
    {
     "name": "stdout",
     "output_type": "stream",
     "text": [
      "41\n",
      "24\n",
      "5\n"
     ]
    }
   ],
   "source": [
    "operacoes = {\n",
    "    '+': lambda *args: sum(args),\n",
    "    '*': lambda *args: math.prod(args),\n",
    "    '-': lambda *args: args[0] - sum(args[1:]),\n",
    "    '/': lambda *args: args[0] / math.prod(args[1:]) if all(args[1:]) else \"Erro: Divisão por zero\",\n",
    "    '**': lambda x, y: math.pow(x, y),\n",
    "    'sqrt': lambda x: math.sqrt(x) if x >= 0 else \"Erro: Raiz quadrada de número negativo\"\n",
    "}\n",
    "\n",
    "def operacao_mat(operacao, *numeros):\n",
    "    \n",
    "    if not numeros:\n",
    "        return \"Nenhum número fornecido\"\n",
    "    \n",
    "    if operacao in operacoes:\n",
    "        try:\n",
    "            resultado = operacoes[operacao](*numeros)\n",
    "        except ZeroDivisionError:\n",
    "            return \"Erro: Divisão por zero\"\n",
    "        except Exception as e:\n",
    "            return f\"Erro: {str(e)}\"\n",
    "        return resultado\n",
    "    else:\n",
    "        return \"Operação não suportada\"\n",
    "    \n",
    "print(operacao_mat('+', 1, 2, 3, 4, 7,8,9,0,-1,8))       \n",
    "print(operacao_mat('*', 1, 2, 3, 4))       \n",
    "print(operacao_mat('-', 10, 2, 3))   "
   ]
  }
 ],
 "metadata": {
  "kernelspec": {
   "display_name": "Python 3",
   "language": "python",
   "name": "python3"
  },
  "language_info": {
   "codemirror_mode": {
    "name": "ipython",
    "version": 3
   },
   "file_extension": ".py",
   "mimetype": "text/x-python",
   "name": "python",
   "nbconvert_exporter": "python",
   "pygments_lexer": "ipython3",
   "version": "3.12.3"
  },
  "orig_nbformat": 4,
  "vscode": {
   "interpreter": {
    "hash": "916dbcbb3f70747c44a77c7bcd40155683ae19c65e1c03b4aa3499c5328201f1"
   }
  }
 },
 "nbformat": 4,
 "nbformat_minor": 2
}
