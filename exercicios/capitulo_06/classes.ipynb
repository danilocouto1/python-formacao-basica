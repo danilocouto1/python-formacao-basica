{
 "cells": [
  {
   "attachments": {},
   "cell_type": "markdown",
   "metadata": {},
   "source": [
    "- Crie uma classe com 3 atributos\n"
   ]
  },
  {
   "cell_type": "code",
   "execution_count": 8,
   "metadata": {},
   "outputs": [],
   "source": [
    "class Npc:\n",
    "    def __init__(self, nome, tamanho, cor):\n",
    "        self.nome = nome\n",
    "        self.tamanho = tamanho\n",
    "        self.cor = cor\n",
    "        self.__energia = 100\n",
    "\n",
    "    def get_energia(self):\n",
    "        return self.__energia\n",
    "\n",
    "    def set_energia(self, valor):\n",
    "        if 0 <= valor <= 100:\n",
    "            self.__energia = valor\n",
    "        else:\n",
    "            print(\"Energia deve estar entre 0 e 100\")"
   ]
  },
  {
   "attachments": {},
   "cell_type": "markdown",
   "metadata": {},
   "source": [
    "- Defina uma variável de classe\n"
   ]
  },
  {
   "cell_type": "code",
   "execution_count": 9,
   "metadata": {},
   "outputs": [],
   "source": [
    "Npc.lvl = \"Nivel zero\""
   ]
  },
  {
   "attachments": {},
   "cell_type": "markdown",
   "metadata": {},
   "source": [
    "- Modifique a variável de instância \"cor\"\n"
   ]
  },
  {
   "attachments": {},
   "cell_type": "markdown",
   "metadata": {},
   "source": [
    "- Printe na tela a variável de classe \"cor\"\n"
   ]
  },
  {
   "cell_type": "code",
   "execution_count": 10,
   "metadata": {},
   "outputs": [
    {
     "name": "stdout",
     "output_type": "stream",
     "text": [
      "Chocolate\n"
     ]
    }
   ],
   "source": [
    "obj1 = Npc(\"Danilo\", \"M\", \"Preto\")\n",
    "obj1.cor = \"Chocolate\"\n",
    "print(obj1.cor)"
   ]
  },
  {
   "attachments": {},
   "cell_type": "markdown",
   "metadata": {},
   "source": [
    "- Crie uma variável privada\n"
   ]
  },
  {
   "cell_type": "code",
   "execution_count": 12,
   "metadata": {},
   "outputs": [
    {
     "ename": "AttributeError",
     "evalue": "'Npc' object has no attribute '__energia'",
     "output_type": "error",
     "traceback": [
      "\u001b[1;31m---------------------------------------------------------------------------\u001b[0m",
      "\u001b[1;31mAttributeError\u001b[0m                            Traceback (most recent call last)",
      "Cell \u001b[1;32mIn[12], line 2\u001b[0m\n\u001b[0;32m      1\u001b[0m npc1 \u001b[38;5;241m=\u001b[39m Npc(\u001b[38;5;124m\"\u001b[39m\u001b[38;5;124mGoblin\u001b[39m\u001b[38;5;124m\"\u001b[39m, \u001b[38;5;124m\"\u001b[39m\u001b[38;5;124mPequeno\u001b[39m\u001b[38;5;124m\"\u001b[39m, \u001b[38;5;124m\"\u001b[39m\u001b[38;5;124mVerde\u001b[39m\u001b[38;5;124m\"\u001b[39m)\n\u001b[1;32m----> 2\u001b[0m \u001b[38;5;28mprint\u001b[39m(\u001b[43mnpc1\u001b[49m\u001b[38;5;241;43m.\u001b[39;49m\u001b[43m__energia\u001b[49m)\n",
      "\u001b[1;31mAttributeError\u001b[0m: 'Npc' object has no attribute '__energia'"
     ]
    }
   ],
   "source": [
    "npc1 = Npc(\"Goblin\", \"Pequeno\", \"Verde\")\n",
    "print(npc1.__energia) #gera erro por ser privada"
   ]
  }
 ],
 "metadata": {
  "kernelspec": {
   "display_name": "Python 3",
   "language": "python",
   "name": "python3"
  },
  "language_info": {
   "codemirror_mode": {
    "name": "ipython",
    "version": 3
   },
   "file_extension": ".py",
   "mimetype": "text/x-python",
   "name": "python",
   "nbconvert_exporter": "python",
   "pygments_lexer": "ipython3",
   "version": "3.12.3"
  },
  "orig_nbformat": 4,
  "vscode": {
   "interpreter": {
    "hash": "916dbcbb3f70747c44a77c7bcd40155683ae19c65e1c03b4aa3499c5328201f1"
   }
  }
 },
 "nbformat": 4,
 "nbformat_minor": 2
}
