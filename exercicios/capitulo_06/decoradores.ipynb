{
 "cells": [
  {
   "attachments": {},
   "cell_type": "markdown",
   "metadata": {},
   "source": [
    "- Crie um exemplo de função e em seguida crie um decorador para alterar o seu comportamento"
   ]
  },
  {
   "cell_type": "code",
   "execution_count": 18,
   "metadata": {},
   "outputs": [
    {
     "name": "stdout",
     "output_type": "stream",
     "text": [
      "Hello word! Python\n"
     ]
    }
   ],
   "source": [
    "def hello_word():\n",
    "    print(\"Hello word! Python\")\n",
    "\n",
    "hello_word()\n",
    "def decorador_func(funcao):\n",
    "    def wrapper():\n",
    "        print(\"Decorador ativo! +\")\n",
    "        funcao()\n",
    "        print(\"Decorador ativo! -\")\n",
    "    return wrapper\n"
   ]
  },
  {
   "attachments": {},
   "cell_type": "markdown",
   "metadata": {},
   "source": [
    "- Execute a função"
   ]
  },
  {
   "cell_type": "code",
   "execution_count": 19,
   "metadata": {},
   "outputs": [
    {
     "name": "stdout",
     "output_type": "stream",
     "text": [
      "Decorador ativo! +\n",
      "Hello word! Python\n",
      "Decorador ativo! -\n"
     ]
    }
   ],
   "source": [
    "@decorador_func\n",
    "def hello_word_decorado():\n",
    "    print(\"Hello word! Python\")\n",
    "\n",
    "\n",
    "hello_word_decorado()\n"
   ]
  }
 ],
 "metadata": {
  "kernelspec": {
   "display_name": "Python 3",
   "language": "python",
   "name": "python3"
  },
  "language_info": {
   "codemirror_mode": {
    "name": "ipython",
    "version": 3
   },
   "file_extension": ".py",
   "mimetype": "text/x-python",
   "name": "python",
   "nbconvert_exporter": "python",
   "pygments_lexer": "ipython3",
   "version": "3.12.3"
  },
  "orig_nbformat": 4,
  "vscode": {
   "interpreter": {
    "hash": "916dbcbb3f70747c44a77c7bcd40155683ae19c65e1c03b4aa3499c5328201f1"
   }
  }
 },
 "nbformat": 4,
 "nbformat_minor": 2
}
