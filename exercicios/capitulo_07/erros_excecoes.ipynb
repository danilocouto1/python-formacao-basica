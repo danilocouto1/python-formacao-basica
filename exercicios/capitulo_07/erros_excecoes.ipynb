{
 "cells": [
  {
   "attachments": {},
   "cell_type": "markdown",
   "metadata": {},
   "source": [
    "- Crie tratamento para as exceções: ZeroDivisionError e TypeError usando a sintaxe try...except...finally\n"
   ]
  },
  {
   "cell_type": "code",
   "execution_count": 7,
   "metadata": {},
   "outputs": [
    {
     "name": "stdout",
     "output_type": "stream",
     "text": [
      "Erro não customizado.\n",
      "Fechamento da tentativa!\n"
     ]
    }
   ],
   "source": [
    "try:\n",
    "    div = int(input(\"Digite numero divisor: \"))\n",
    "    divid = int(input(\"Digite numero dividendo: \"))\n",
    "    print(div/divid)\n",
    "except ZeroDivisionError:\n",
    "    print(\"Tentativa de dividir por zero\")\n",
    "except TypeError:\n",
    "    print(\"Erro no uso do tipo!\")\n",
    "except Exception:\n",
    "    print(\"Erro não customizado.\")\n",
    "finally:\n",
    "    print(\"Fechamento da tentativa!\")"
   ]
  }
 ],
 "metadata": {
  "kernelspec": {
   "display_name": "Python 3",
   "language": "python",
   "name": "python3"
  },
  "language_info": {
   "codemirror_mode": {
    "name": "ipython",
    "version": 3
   },
   "file_extension": ".py",
   "mimetype": "text/x-python",
   "name": "python",
   "nbconvert_exporter": "python",
   "pygments_lexer": "ipython3",
   "version": "3.12.3"
  },
  "orig_nbformat": 4,
  "vscode": {
   "interpreter": {
    "hash": "916dbcbb3f70747c44a77c7bcd40155683ae19c65e1c03b4aa3499c5328201f1"
   }
  }
 },
 "nbformat": 4,
 "nbformat_minor": 2
}
