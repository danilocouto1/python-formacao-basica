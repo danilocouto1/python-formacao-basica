{
 "cells": [
  {
   "attachments": {},
   "cell_type": "markdown",
   "metadata": {},
   "source": [
    "- Imagine que você está criando um servidor web e customize exceções para o código\n"
   ]
  },
  {
   "cell_type": "code",
   "execution_count": 2,
   "metadata": {},
   "outputs": [],
   "source": [
    "class UsoInvalido(Exception):\n",
    "    codigo_status = 400\n",
    "\n",
    "    def __init__(self, mensagem, codigo_status=None):\n",
    "        super().__init__(self)\n",
    "        self.mensagem = mensagem\n",
    "        if codigo_status is not None:\n",
    "            self.codigo_status = codigo_status"
   ]
  },
  {
   "attachments": {},
   "cell_type": "markdown",
   "metadata": {},
   "source": [
    "- Simule a aplicação de uma exceção customizada no código"
   ]
  },
  {
   "cell_type": "code",
   "execution_count": 6,
   "metadata": {},
   "outputs": [
    {
     "name": "stdout",
     "output_type": "stream",
     "text": [
      "Erro: param é obrigatório (código de status: 422)\n"
     ]
    }
   ],
   "source": [
    "def verificar_parametro(param):\n",
    "    if not param:\n",
    "        raise UsoInvalido('param é obrigatório', 422)\n",
    "    elif not param.isdigit():\n",
    "        raise UsoInvalido('param deve ser um dígito', 400)\n",
    "    else:\n",
    "        print(f\"Parâmetro é válido: {param}\")\n",
    "\n",
    "try:\n",
    "        param = input(\"Digite um parâmetro: \")\n",
    "        verificar_parametro(param)\n",
    "except UsoInvalido as e:\n",
    "        print(f\"Erro: {e.mensagem} (código de status: {e.codigo_status})\")\n"
   ]
  }
 ],
 "metadata": {
  "kernelspec": {
   "display_name": "Python 3",
   "language": "python",
   "name": "python3"
  },
  "language_info": {
   "codemirror_mode": {
    "name": "ipython",
    "version": 3
   },
   "file_extension": ".py",
   "mimetype": "text/x-python",
   "name": "python",
   "nbconvert_exporter": "python",
   "pygments_lexer": "ipython3",
   "version": "3.12.3"
  },
  "orig_nbformat": 4,
  "vscode": {
   "interpreter": {
    "hash": "916dbcbb3f70747c44a77c7bcd40155683ae19c65e1c03b4aa3499c5328201f1"
   }
  }
 },
 "nbformat": 4,
 "nbformat_minor": 2
}
